{
 "cells": [
  {
   "cell_type": "code",
   "execution_count": 1,
   "metadata": {
    "collapsed": true
   },
   "outputs": [],
   "source": [
    "import numpy as np\n",
    "import pandas as pd\n",
    "from scipy.special import logit\n",
    "from scipy.stats import multivariate_normal\n",
    "import os\n",
    "from scipy.stats import norm\n",
    "import matplotlib.pyplot as plt "
   ]
  },
  {
   "cell_type": "code",
   "execution_count": 52,
   "metadata": {
    "scrolled": true
   },
   "outputs": [
    {
     "data": {
      "text/plain": [
       "(10, 10, 2)"
      ]
     },
     "execution_count": 52,
     "metadata": {},
     "output_type": "execute_result"
    }
   ],
   "source": [
    "x, y = np.array(np.meshgrid(np.arange(-5, 5, 1), np.arange(-5, 5, 1)))\n",
    "X = np.empty(x.shape + (2,))\n",
    "X[:, :, 0] = x; X[:, :, 1] = y\n",
    "X.shape"
   ]
  },
  {
   "cell_type": "code",
   "execution_count": 53,
   "metadata": {
    "scrolled": true
   },
   "outputs": [
    {
     "name": "stdout",
     "output_type": "stream",
     "text": [
      "3.01422852383\n"
     ]
    },
    {
     "data": {
      "text/plain": [
       "[2.8902492950897237e-06,\n",
       " 1.7484989319560865e-05,\n",
       " 1.7484989319560865e-05,\n",
       " 4.6387482270458135e-05,\n",
       " 7.0905128108962742e-05,\n",
       " 7.0905128108964097e-05,\n",
       " 0.0001057780213023689,\n",
       " 0.0001057780213023689,\n",
       " 0.00019274012128315407,\n",
       " 0.00019274012136412147,\n",
       " 0.00022164261423405135,\n",
       " 0.00028446726992209037,\n",
       " 0.00035119539857958449,\n",
       " 0.00035119605466515675,\n",
       " 0.00035126704069689491,\n",
       " 0.00042895102847826186,\n",
       " 0.00042895102847826186,\n",
       " 0.00042895102847828902,\n",
       " 0.00042895102847828902,\n",
       " 0.00042895103173080858,\n",
       " 0.00042967051367453547,\n",
       " 0.00045797646948614556,\n",
       " 0.0011660097860112775,\n",
       " 0.0011660097860112775,\n",
       " 0.0011660097876375511,\n",
       " 0.0011660097876375511,\n",
       " 0.0017394821964631108,\n",
       " 0.0017394821964631108,\n",
       " 0.0021246083525315535,\n",
       " 0.0021246083525315535,\n",
       " 0.0021246215303615031,\n",
       " 0.0021246215303615031,\n",
       " 0.0021535108454813598,\n",
       " 0.0021535108454813598,\n",
       " 0.0021622401317108685,\n",
       " 0.0023374952636744614,\n",
       " 0.0025950038139619918,\n",
       " 0.0025950038139619918,\n",
       " 0.0026094537482662904,\n",
       " 0.0026094537482662904,\n",
       " 0.0042693634949217702,\n",
       " 0.0042693634949217702,\n",
       " 0.0047284028455735275,\n",
       " 0.0047284028455735275,\n",
       " 0.0047284028499941701,\n",
       " 0.0047284028499941701,\n",
       " 0.0059009540581653466,\n",
       " 0.0086157117207475171,\n",
       " 0.0086157117207475171,\n",
       " 0.0086157475417981081,\n",
       " 0.0086157475417981081,\n",
       " 0.00882927386255258,\n",
       " 0.00882927386255258,\n",
       " 0.010523263754930311,\n",
       " 0.010523263754930311,\n",
       " 0.010562536619916867,\n",
       " 0.010562536619916867,\n",
       " 0.011765875881415146,\n",
       " 0.012826107646124055,\n",
       " 0.012826107646124055,\n",
       " 0.012853131534382761,\n",
       " 0.012853131534382761,\n",
       " 0.014445760650795836,\n",
       " 0.014445760650795836,\n",
       " 0.023419932609809721,\n",
       " 0.023419932609809721,\n",
       " 0.023419945787558707,\n",
       " 0.023419945787558707,\n",
       " 0.023448835102678561,\n",
       " 0.023448835102678561,\n",
       " 0.024513229392869262,\n",
       " 0.025564687752118974,\n",
       " 0.025564687752118974,\n",
       " 0.028605171597618377,\n",
       " 0.028605171597618377,\n",
       " 0.028619621531922133,\n",
       " 0.028619621531922133,\n",
       " 0.042673900168149113,\n",
       " 0.042673900168149113,\n",
       " 0.042673971154184885,\n",
       " 0.042780680582970104,\n",
       " 0.043184336624999618,\n",
       " 0.044244568389708527,\n",
       " 0.044244568389708527,\n",
       " 0.052122018573157541,\n",
       " 0.052122018573157541,\n",
       " 0.0521227380506806,\n",
       " 0.0521227380506806,\n",
       " 0.055931690136453736,\n",
       " 0.063661982084611407,\n",
       " 0.08658606823587281,\n",
       " 0.08658606823587281,\n",
       " 0.090885520052968058,\n",
       " 0.090885520052968058,\n",
       " 0.11752861407711661,\n",
       " 0.11752861407711661,\n",
       " 0.12182806589421186,\n",
       " 0.12182806589421186,\n",
       " 0.32004936838025377,\n",
       " 0.63835925456404441]"
      ]
     },
     "execution_count": 53,
     "metadata": {},
     "output_type": "execute_result"
    }
   ],
   "source": [
    "mean1 = [-3, 3]\n",
    "cov1 = [[0.5, 0], [0, 0.5]]\n",
    "\n",
    "mean2 = [0, 0]\n",
    "cov2 = [[2.5, 0], [0, 2.5]]\n",
    "\n",
    "mean3 = [3, -3]\n",
    "cov3 = [[0.25, 0], [0, 0.25]]\n",
    "\n",
    "prob = multivariate_normal.pdf(X, mean=mean1, cov=cov1) + multivariate_normal.pdf(X, mean=mean2, cov=cov2) + multivariate_normal.pdf(X, mean=mean3, cov=cov3)\n",
    "#prob /= prob.sum()\n",
    "print(prob.sum())\n",
    "sorted(prob.reshape(-1, 1).T[0])"
   ]
  },
  {
   "cell_type": "code",
   "execution_count": 65,
   "metadata": {
    "scrolled": true
   },
   "outputs": [],
   "source": [
    "x = np.arange(-5.0, 5.0, 0.1)\n",
    "prob = norm.pdf(x, loc=-3, scale=0.15) + norm.pdf(x, loc=3, scale=0.7) + norm.pdf(x, loc=0, scale=1.5)\n",
    "prob /= 3"
   ]
  },
  {
   "cell_type": "code",
   "execution_count": 28,
   "metadata": {
    "scrolled": true
   },
   "outputs": [
    {
     "data": {
      "text/plain": [
       "(40, 3)"
      ]
     },
     "execution_count": 28,
     "metadata": {},
     "output_type": "execute_result"
    }
   ],
   "source": [
    "df.shape[0] % np.arange(-5, 5, 0.25).shape[0]\n",
    "dfIter = df.iloc[:np.arange(-5, 5, 0.25).shape[0]]\n",
    "dfIter.shape"
   ]
  },
  {
   "cell_type": "code",
   "execution_count": 11,
   "metadata": {},
   "outputs": [
    {
     "name": "stderr",
     "output_type": "stream",
     "text": [
      "<ipython-input-11-2a18b8c9bc45>:7: SyntaxWarning: assertion is always true, perhaps remove parentheses?\n",
      "  assert((df.shape[0] % lenX) == 0, \"result dataframe has an incorrect size\")\n"
     ]
    }
   ],
   "source": [
    "def computeRegretOneIter(df, truthPdf):\n",
    "    optimalClickCount = df[\"n_exp\"].sum() * truthPdf(df[\"bo_x\"]).max()\n",
    "    realClickCount = df[\"output\"].sum()\n",
    "    return optimalClickCount - realClickCount\n",
    "\n",
    "def computerRegret(df, truthPdf, lenX):\n",
    "    assert((df.shape[0] % lenX) == 0, \"result dataframe has an incorrect size\")\n",
    "    curIndex = 0\n",
    "    runningAvg = []\n",
    "    while curIndex + lenX <= df.shape[0]:\n",
    "        regret = computeRegretOneIter(df.iloc[curIndex: curIndex+lenX], truthPdf)\n",
    "        curAvg = 0 if len(runningAvg)==0 else runningAvg[-1]\n",
    "        N = len(runningAvg) + 1\n",
    "        runningAvg.append(curAvg * (N-1) / N + regret / N)\n",
    "        curIndex += lenX\n",
    "    return runningAvg\n",
    "\n",
    "def pdf(x):\n",
    "    prob = norm.pdf(x, loc=-2, scale=0.3) + norm.pdf(x, loc=3, scale=0.7) + norm.pdf(x, loc=0, scale=1.5)\n",
    "    return prob / 3.0"
   ]
  },
  {
   "cell_type": "code",
   "execution_count": 15,
   "metadata": {
    "collapsed": true
   },
   "outputs": [],
   "source": [
    "x = np.array(range(np.arange(-5, 5, 0.25).shape[0]))\n",
    "y = computerRegret(df, pdf, x.shape[0])"
   ]
  },
  {
   "cell_type": "code",
   "execution_count": 16,
   "metadata": {},
   "outputs": [
    {
     "data": {
      "image/png": "[encoded data removed]",
      "text/plain": [
       "<matplotlib.figure.Figure at 0x11248a3c8>"
      ]
     },
     "metadata": {},
     "output_type": "display_data"
    }
   ],
   "source": [
    "plt.plot(y[:100])\n",
    "plt.title(\"1d 10000-click regret\")\n",
    "plt.show()"
   ]
  },
  {
   "cell_type": "code",
   "execution_count": 2,
   "metadata": {
    "collapsed": true
   },
   "outputs": [],
   "source": [
    "df=pd.DataFrame(list(zip(range(3), range(4,7))))"
   ]
  },
  {
   "cell_type": "code",
   "execution_count": 3,
   "metadata": {},
   "outputs": [
    {
     "data": {
      "text/html": [
       "<div>\n",
       "<style>\n",
       "    .dataframe thead tr:only-child th {\n",
       "        text-align: right;\n",
       "    }\n",
       "\n",
       "    .dataframe thead th {\n",
       "        text-align: left;\n",
       "    }\n",
       "\n",
       "    .dataframe tbody tr th {\n",
       "        vertical-align: top;\n",
       "    }\n",
       "</style>\n",
       "<table border=\"1\" class=\"dataframe\">\n",
       "  <thead>\n",
       "    <tr style=\"text-align: right;\">\n",
       "      <th></th>\n",
       "      <th>0</th>\n",
       "      <th>1</th>\n",
       "    </tr>\n",
       "  </thead>\n",
       "  <tbody>\n",
       "    <tr>\n",
       "      <th>0</th>\n",
       "      <td>0</td>\n",
       "      <td>4</td>\n",
       "    </tr>\n",
       "    <tr>\n",
       "      <th>1</th>\n",
       "      <td>1</td>\n",
       "      <td>5</td>\n",
       "    </tr>\n",
       "    <tr>\n",
       "      <th>2</th>\n",
       "      <td>2</td>\n",
       "      <td>6</td>\n",
       "    </tr>\n",
       "  </tbody>\n",
       "</table>\n",
       "</div>"
      ],
      "text/plain": [
       "   0  1\n",
       "0  0  4\n",
       "1  1  5\n",
       "2  2  6"
      ]
     },
     "execution_count": 3,
     "metadata": {},
     "output_type": "execute_result"
    }
   ],
   "source": [
    "df"
   ]
  },
  {
   "cell_type": "code",
   "execution_count": 5,
   "metadata": {
    "collapsed": true
   },
   "outputs": [],
   "source": [
    "df.to_csv(\"temp.csv\", header=False, index=False)"
   ]
  },
  {
   "cell_type": "code",
   "execution_count": 7,
   "metadata": {},
   "outputs": [
    {
     "data": {
      "text/plain": [
       "(101,)"
      ]
     },
     "execution_count": 7,
     "metadata": {},
     "output_type": "execute_result"
    }
   ],
   "source": [
    "np.arange(-5, 5.1, 0.1).shape"
   ]
  },
  {
   "cell_type": "code",
   "execution_count": null,
   "metadata": {
    "collapsed": true
   },
   "outputs": [],
   "source": []
  }
 ],
 "metadata": {
  "kernelspec": {
   "display_name": "Python 3",
   "language": "python",
   "name": "python3"
  },
  "language_info": {
   "codemirror_mode": {
    "name": "ipython",
    "version": 3
   },
   "file_extension": ".py",
   "mimetype": "text/x-python",
   "name": "python",
   "nbconvert_exporter": "python",
   "pygments_lexer": "ipython3",
   "version": "3.6.1"
  }
 },
 "nbformat": 4,
 "nbformat_minor": 2
}
