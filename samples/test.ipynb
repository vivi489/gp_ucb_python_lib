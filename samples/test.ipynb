{
 "cells": [
  {
   "cell_type": "code",
   "execution_count": 1,
   "metadata": {
    "collapsed": true
   },
   "outputs": [],
   "source": [
    "import numpy as np\n",
    "import pandas as pd\n",
    "from scipy.special import logit\n",
    "from scipy.stats import multivariate_normal\n",
    "import os\n",
    "from scipy.stats import norm\n",
    "import matplotlib.pyplot as plt "
   ]
  },
  {
   "cell_type": "code",
   "execution_count": 52,
   "metadata": {
    "scrolled": true
   },
   "outputs": [
    {
     "data": {
      "text/plain": [
       "(10, 10, 2)"
      ]
     },
     "execution_count": 52,
     "metadata": {},
     "output_type": "execute_result"
    }
   ],
   "source": [
    "x, y = np.array(np.meshgrid(np.arange(-5, 5, 1), np.arange(-5, 5, 1)))\n",
    "X = np.empty(x.shape + (2,))\n",
    "X[:, :, 0] = x; X[:, :, 1] = y\n",
    "X.shape"
   ]
  },
  {
   "cell_type": "code",
   "execution_count": 57,
   "metadata": {
    "scrolled": true
   },
   "outputs": [
    {
     "ename": "ValueError",
     "evalue": "operands could not be broadcast together with shapes (5,5,5,3) (2,) ",
     "output_type": "error",
     "traceback": [
      "\u001b[0;31m---------------------------------------------------------------------------\u001b[0m",
      "\u001b[0;31mValueError\u001b[0m                                Traceback (most recent call last)",
      "\u001b[0;32m<ipython-input-57-a94d2dcccecf>\u001b[0m in \u001b[0;36m<module>\u001b[0;34m()\u001b[0m\n\u001b[1;32m      8\u001b[0m \u001b[0mcov3\u001b[0m \u001b[0;34m=\u001b[0m \u001b[0;34m[\u001b[0m\u001b[0;34m[\u001b[0m\u001b[0;36m0.25\u001b[0m\u001b[0;34m,\u001b[0m \u001b[0;36m0\u001b[0m\u001b[0;34m]\u001b[0m\u001b[0;34m,\u001b[0m \u001b[0;34m[\u001b[0m\u001b[0;36m0\u001b[0m\u001b[0;34m,\u001b[0m \u001b[0;36m0.25\u001b[0m\u001b[0;34m]\u001b[0m\u001b[0;34m]\u001b[0m\u001b[0;34m\u001b[0m\u001b[0m\n\u001b[1;32m      9\u001b[0m \u001b[0;34m\u001b[0m\u001b[0m\n\u001b[0;32m---> 10\u001b[0;31m \u001b[0mprob\u001b[0m \u001b[0;34m=\u001b[0m \u001b[0mmultivariate_normal\u001b[0m\u001b[0;34m.\u001b[0m\u001b[0mpdf\u001b[0m\u001b[0;34m(\u001b[0m\u001b[0mX\u001b[0m\u001b[0;34m,\u001b[0m \u001b[0mmean\u001b[0m\u001b[0;34m=\u001b[0m\u001b[0mmean1\u001b[0m\u001b[0;34m,\u001b[0m \u001b[0mcov\u001b[0m\u001b[0;34m=\u001b[0m\u001b[0mcov1\u001b[0m\u001b[0;34m)\u001b[0m \u001b[0;34m+\u001b[0m \u001b[0mmultivariate_normal\u001b[0m\u001b[0;34m.\u001b[0m\u001b[0mpdf\u001b[0m\u001b[0;34m(\u001b[0m\u001b[0mX\u001b[0m\u001b[0;34m,\u001b[0m \u001b[0mmean\u001b[0m\u001b[0;34m=\u001b[0m\u001b[0mmean2\u001b[0m\u001b[0;34m,\u001b[0m \u001b[0mcov\u001b[0m\u001b[0;34m=\u001b[0m\u001b[0mcov2\u001b[0m\u001b[0;34m)\u001b[0m \u001b[0;34m+\u001b[0m \u001b[0mmultivariate_normal\u001b[0m\u001b[0;34m.\u001b[0m\u001b[0mpdf\u001b[0m\u001b[0;34m(\u001b[0m\u001b[0mX\u001b[0m\u001b[0;34m,\u001b[0m \u001b[0mmean\u001b[0m\u001b[0;34m=\u001b[0m\u001b[0mmean3\u001b[0m\u001b[0;34m,\u001b[0m \u001b[0mcov\u001b[0m\u001b[0;34m=\u001b[0m\u001b[0mcov3\u001b[0m\u001b[0;34m)\u001b[0m\u001b[0;34m\u001b[0m\u001b[0m\n\u001b[0m\u001b[1;32m     11\u001b[0m \u001b[0;31m#prob /= prob.sum()\u001b[0m\u001b[0;34m\u001b[0m\u001b[0;34m\u001b[0m\u001b[0m\n\u001b[1;32m     12\u001b[0m \u001b[0;31m#print(prob.sum())\u001b[0m\u001b[0;34m\u001b[0m\u001b[0;34m\u001b[0m\u001b[0m\n",
      "\u001b[0;32m/Users/ar-chen.zhao/anaconda3/lib/python3.6/site-packages/scipy/stats/_multivariate.py\u001b[0m in \u001b[0;36mpdf\u001b[0;34m(self, x, mean, cov, allow_singular)\u001b[0m\n\u001b[1;32m    505\u001b[0m         \u001b[0mx\u001b[0m \u001b[0;34m=\u001b[0m \u001b[0mself\u001b[0m\u001b[0;34m.\u001b[0m\u001b[0m_process_quantiles\u001b[0m\u001b[0;34m(\u001b[0m\u001b[0mx\u001b[0m\u001b[0;34m,\u001b[0m \u001b[0mdim\u001b[0m\u001b[0;34m)\u001b[0m\u001b[0;34m\u001b[0m\u001b[0m\n\u001b[1;32m    506\u001b[0m         \u001b[0mpsd\u001b[0m \u001b[0;34m=\u001b[0m \u001b[0m_PSD\u001b[0m\u001b[0;34m(\u001b[0m\u001b[0mcov\u001b[0m\u001b[0;34m,\u001b[0m \u001b[0mallow_singular\u001b[0m\u001b[0;34m=\u001b[0m\u001b[0mallow_singular\u001b[0m\u001b[0;34m)\u001b[0m\u001b[0;34m\u001b[0m\u001b[0m\n\u001b[0;32m--> 507\u001b[0;31m         \u001b[0mout\u001b[0m \u001b[0;34m=\u001b[0m \u001b[0mnp\u001b[0m\u001b[0;34m.\u001b[0m\u001b[0mexp\u001b[0m\u001b[0;34m(\u001b[0m\u001b[0mself\u001b[0m\u001b[0;34m.\u001b[0m\u001b[0m_logpdf\u001b[0m\u001b[0;34m(\u001b[0m\u001b[0mx\u001b[0m\u001b[0;34m,\u001b[0m \u001b[0mmean\u001b[0m\u001b[0;34m,\u001b[0m \u001b[0mpsd\u001b[0m\u001b[0;34m.\u001b[0m\u001b[0mU\u001b[0m\u001b[0;34m,\u001b[0m \u001b[0mpsd\u001b[0m\u001b[0;34m.\u001b[0m\u001b[0mlog_pdet\u001b[0m\u001b[0;34m,\u001b[0m \u001b[0mpsd\u001b[0m\u001b[0;34m.\u001b[0m\u001b[0mrank\u001b[0m\u001b[0;34m)\u001b[0m\u001b[0;34m)\u001b[0m\u001b[0;34m\u001b[0m\u001b[0m\n\u001b[0m\u001b[1;32m    508\u001b[0m         \u001b[0;32mreturn\u001b[0m \u001b[0m_squeeze_output\u001b[0m\u001b[0;34m(\u001b[0m\u001b[0mout\u001b[0m\u001b[0;34m)\u001b[0m\u001b[0;34m\u001b[0m\u001b[0m\n\u001b[1;32m    509\u001b[0m \u001b[0;34m\u001b[0m\u001b[0m\n",
      "\u001b[0;32m/Users/ar-chen.zhao/anaconda3/lib/python3.6/site-packages/scipy/stats/_multivariate.py\u001b[0m in \u001b[0;36m_logpdf\u001b[0;34m(self, x, mean, prec_U, log_det_cov, rank)\u001b[0m\n\u001b[1;32m    452\u001b[0m \u001b[0;34m\u001b[0m\u001b[0m\n\u001b[1;32m    453\u001b[0m         \"\"\"\n\u001b[0;32m--> 454\u001b[0;31m         \u001b[0mdev\u001b[0m \u001b[0;34m=\u001b[0m \u001b[0mx\u001b[0m \u001b[0;34m-\u001b[0m \u001b[0mmean\u001b[0m\u001b[0;34m\u001b[0m\u001b[0m\n\u001b[0m\u001b[1;32m    455\u001b[0m         \u001b[0mmaha\u001b[0m \u001b[0;34m=\u001b[0m \u001b[0mnp\u001b[0m\u001b[0;34m.\u001b[0m\u001b[0msum\u001b[0m\u001b[0;34m(\u001b[0m\u001b[0mnp\u001b[0m\u001b[0;34m.\u001b[0m\u001b[0msquare\u001b[0m\u001b[0;34m(\u001b[0m\u001b[0mnp\u001b[0m\u001b[0;34m.\u001b[0m\u001b[0mdot\u001b[0m\u001b[0;34m(\u001b[0m\u001b[0mdev\u001b[0m\u001b[0;34m,\u001b[0m \u001b[0mprec_U\u001b[0m\u001b[0;34m)\u001b[0m\u001b[0;34m)\u001b[0m\u001b[0;34m,\u001b[0m \u001b[0maxis\u001b[0m\u001b[0;34m=\u001b[0m\u001b[0;34m-\u001b[0m\u001b[0;36m1\u001b[0m\u001b[0;34m)\u001b[0m\u001b[0;34m\u001b[0m\u001b[0m\n\u001b[1;32m    456\u001b[0m         \u001b[0;32mreturn\u001b[0m \u001b[0;34m-\u001b[0m\u001b[0;36m0.5\u001b[0m \u001b[0;34m*\u001b[0m \u001b[0;34m(\u001b[0m\u001b[0mrank\u001b[0m \u001b[0;34m*\u001b[0m \u001b[0m_LOG_2PI\u001b[0m \u001b[0;34m+\u001b[0m \u001b[0mlog_det_cov\u001b[0m \u001b[0;34m+\u001b[0m \u001b[0mmaha\u001b[0m\u001b[0;34m)\u001b[0m\u001b[0;34m\u001b[0m\u001b[0m\n",
      "\u001b[0;31mValueError\u001b[0m: operands could not be broadcast together with shapes (5,5,5,3) (2,) "
     ]
    }
   ],
   "source": [
    "mean1 = [-3, 3]\n",
    "cov1 = [[0.5, 0], [0, 0.5]]\n",
    "\n",
    "mean2 = [0, 0]\n",
    "cov2 = [[2.5, 0], [0, 2.5]]\n",
    "\n",
    "mean3 = [3, -3]\n",
    "cov3 = [[0.25, 0], [0, 0.25]]\n",
    "\n",
    "prob = multivariate_normal.pdf(X, mean=mean1, cov=cov1) + multivariate_normal.pdf(X, mean=mean2, cov=cov2) + multivariate_normal.pdf(X, mean=mean3, cov=cov3)\n",
    "#prob /= prob.sum()\n",
    "#print(prob.sum())\n",
    "sorted(prob.reshape(-1, 1).T[0])"
   ]
  },
  {
   "cell_type": "code",
   "execution_count": 121,
   "metadata": {
    "collapsed": true,
    "scrolled": true
   },
   "outputs": [],
   "source": [
    "def pdf(x):\n",
    "    mean1 = [3, 3, 3]\n",
    "    cov1 = np.eye(3) * 0.75\n",
    "    mean2 = [-2, -2, -2]\n",
    "    cov2 = np.eye(3) * 0.75\n",
    "    mean3 = [0, 0, 0]\n",
    "    cov3 = np.eye(3) * 1\n",
    "    prob = multivariate_normal.pdf(x, mean=mean1, cov=cov1) + multivariate_normal.pdf(x, mean=mean2, cov=cov2) \\\n",
    "               + multivariate_normal.pdf(x, mean=mean3, cov=cov3)\n",
    "    return prob * 3"
   ]
  },
  {
   "cell_type": "code",
   "execution_count": 122,
   "metadata": {},
   "outputs": [],
   "source": [
    "x, y, z = np.array(np.meshgrid(*(np.arange(-5, 5.0, 2) for _ in range(3))))\n",
    "X = np.empty(x.shape + (3,))\n",
    "X[:, :, :, 0] = x; X[:, :, :, 1] = y; X[:, :, :, 2] = z"
   ]
  },
  {
   "cell_type": "code",
   "execution_count": 123,
   "metadata": {},
   "outputs": [],
   "source": [
    "X = pdf(X).reshape(-1, 1).T[0]"
   ]
  },
  {
   "cell_type": "code",
   "execution_count": 124,
   "metadata": {},
   "outputs": [
    {
     "data": {
      "text/plain": [
       "[1.3349568116020089e-13,\n",
       " 1.3349568116020089e-13,\n",
       " 1.3349568116020089e-13,\n",
       " 8.7603226869303313e-11,\n",
       " 8.7603226869303313e-11,\n",
       " 8.7603226869303313e-11,\n",
       " 1.0916684316695076e-10,\n",
       " 1.0916684316695076e-10,\n",
       " 1.0916684316695076e-10,\n",
       " 1.0916684316695076e-10,\n",
       " 1.0916684316695076e-10,\n",
       " 1.0916684316695076e-10,\n",
       " 4.4664130502655103e-09,\n",
       " 4.4680175494298613e-09,\n",
       " 4.4680175494298613e-09,\n",
       " 4.4680175494298613e-09,\n",
       " 4.7830780948591633e-09,\n",
       " 4.7830780948591633e-09,\n",
       " 4.7830780948591633e-09,\n",
       " 4.7830780948591633e-09,\n",
       " 4.7830780948591633e-09,\n",
       " 4.7830780948591633e-09,\n",
       " 4.8045376055907273e-09,\n",
       " 4.8045376055907273e-09,\n",
       " 4.8045376055907273e-09,\n",
       " 4.8045376055907273e-09,\n",
       " 4.8045376055907273e-09,\n",
       " 4.8045376055907273e-09,\n",
       " 2.6115260296850631e-07,\n",
       " 2.6115260296850631e-07,\n",
       " 2.6115260296850631e-07,\n",
       " 2.6560794437523942e-07,\n",
       " 2.6560794437523942e-07,\n",
       " 2.6560794437523947e-07,\n",
       " 2.6560794437523947e-07,\n",
       " 2.6560794437523947e-07,\n",
       " 2.6560794437523947e-07,\n",
       " 9.2511587485280233e-07,\n",
       " 9.2511587485280233e-07,\n",
       " 9.2511587485280233e-07,\n",
       " 9.251174499742173e-07,\n",
       " 9.251174499742173e-07,\n",
       " 9.251174499742173e-07,\n",
       " 9.2989881945197428e-07,\n",
       " 9.2989881945197428e-07,\n",
       " 9.2989881945197428e-07,\n",
       " 9.2989881945197428e-07,\n",
       " 9.2989881945197428e-07,\n",
       " 9.2989881945197428e-07,\n",
       " 1.1862573768000264e-06,\n",
       " 1.1862573768000264e-06,\n",
       " 1.1862573768000264e-06,\n",
       " 1.1862573768000264e-06,\n",
       " 1.1862573768000264e-06,\n",
       " 1.1862573768000264e-06,\n",
       " 1.4257866840583399e-05,\n",
       " 1.4257866840583399e-05,\n",
       " 1.4257866840583399e-05,\n",
       " 1.4257866840583399e-05,\n",
       " 1.4257866840583399e-05,\n",
       " 1.4257866840583399e-05,\n",
       " 1.4262310921002659e-05,\n",
       " 1.4262310921002659e-05,\n",
       " 1.4262310921002659e-05,\n",
       " 1.4262310921002659e-05,\n",
       " 1.4262310921002659e-05,\n",
       " 1.4262310921002659e-05,\n",
       " 2.109357738835879e-05,\n",
       " 2.109357738835879e-05,\n",
       " 2.109357738835879e-05,\n",
       " 0.00019161678757882288,\n",
       " 0.00019161678757882288,\n",
       " 0.00019161678757882321,\n",
       " 0.00019162148294958527,\n",
       " 0.00019162148294958527,\n",
       " 0.00019162148294958527,\n",
       " 0.00019162148294958527,\n",
       " 0.0001916214829495856,\n",
       " 0.0001916214829495856,\n",
       " 0.00019187784150693336,\n",
       " 0.00019187784150693336,\n",
       " 0.00019187784150693368,\n",
       " 0.00020587454448330272,\n",
       " 0.00020587454448330272,\n",
       " 0.00020587454448330305,\n",
       " 0.00077845655932870452,\n",
       " 0.00077845655932870452,\n",
       " 0.00077845655932870452,\n",
       " 0.00077892692545664403,\n",
       " 0.00077892692545664403,\n",
       " 0.00077892692545664403,\n",
       " 0.00077892692545664403,\n",
       " 0.00077892692545664403,\n",
       " 0.00077892692545664403,\n",
       " 0.00077937704947979108,\n",
       " 0.00077937704947979108,\n",
       " 0.00077937704947979108,\n",
       " 0.00097006863355649149,\n",
       " 0.00097006863355649149,\n",
       " 0.00097006863355649149,\n",
       " 0.00097006863355649149,\n",
       " 0.00097006863355649181,\n",
       " 0.00097006863355649181,\n",
       " 0.0021943184792966456,\n",
       " 0.0021943184792966456,\n",
       " 0.0021943184792966456,\n",
       " 0.020391290370880472,\n",
       " 0.020391290370880472,\n",
       " 0.020391290370880472,\n",
       " 0.039689301048825912,\n",
       " 0.039703297751802279,\n",
       " 0.039703297751802279,\n",
       " 0.039703297751802279,\n",
       " 0.040467491840875454,\n",
       " 0.040467491840875454,\n",
       " 0.040467491840875454,\n",
       " 0.042502993581661833,\n",
       " 0.042502993581661833,\n",
       " 0.042502993581661833,\n",
       " 0.042600419223712896,\n",
       " 0.042693652174286584,\n",
       " 0.042693652174286584,\n",
       " 0.042693652174286584,\n",
       " 0.08219107537053813,\n",
       " 0.29326480352922829]"
      ]
     },
     "execution_count": 124,
     "metadata": {},
     "output_type": "execute_result"
    }
   ],
   "source": [
    "sorted(X)"
   ]
  },
  {
   "cell_type": "code",
   "execution_count": 125,
   "metadata": {},
   "outputs": [
    {
     "data": {
      "text/plain": [
       "1.039945145223357"
      ]
     },
     "execution_count": 125,
     "metadata": {},
     "output_type": "execute_result"
    }
   ],
   "source": [
    "X.sum()"
   ]
  },
  {
   "cell_type": "code",
   "execution_count": null,
   "metadata": {
    "collapsed": true
   },
   "outputs": [],
   "source": []
  }
 ],
 "metadata": {
  "kernelspec": {
   "display_name": "Python 3",
   "language": "python",
   "name": "python3"
  },
  "language_info": {
   "codemirror_mode": {
    "name": "ipython",
    "version": 3
   },
   "file_extension": ".py",
   "mimetype": "text/x-python",
   "name": "python",
   "nbconvert_exporter": "python",
   "pygments_lexer": "ipython3",
   "version": "3.6.1"
  }
 },
 "nbformat": 4,
 "nbformat_minor": 2
}
